{
 "cells": [
  {
   "cell_type": "code",
   "execution_count": 1,
   "metadata": {},
   "outputs": [
    {
     "name": "stdout",
     "output_type": "stream",
     "text": [
      "Main Thead: name=MainThread, idnet=21760, id=21760,data=0\n",
      "Starting thread1\n",
      "threadfunc: name=Thread-5 (threadfunc), idnet=22108, id=22108,data=1\n",
      "starting thread2\n",
      "threadfunc: name=Thread-6 (threadfunc), idnet=22060, id=22060,data=25\n",
      "Waiting for thread1 to finish\n",
      "Waiting for thread2 to finish\n",
      "all done\n"
     ]
    }
   ],
   "source": [
    "\n",
    "from threading import Thread, current_thread, get_ident, get_native_id\n",
    "\n",
    "\n",
    "def printThread(name,Data=0):\n",
    "    thread = current_thread()\n",
    "    print(f'{name}: name={thread.name}, idnet={get_ident()}, id={get_native_id()},data={Data}')\n",
    "\n",
    "\n",
    "def threadfunc(number):\n",
    "    printThread(\"threadfunc\",number)\n",
    "\n",
    "\n",
    "if __name__ == \"__main__\":\n",
    "    printThread(\"Main Thead\")\n",
    "\n",
    "    #create some threads and tell them to run on some functions\n",
    "    thread1 = Thread(target=threadfunc,args=(1,), daemon=True)\n",
    "    thread2 = Thread(target=threadfunc,args=(25,), daemon=True)\n",
    "\n",
    "    \n",
    "    print(\"Starting thread1\")\n",
    "    thread1.start()\n",
    "    print(\"starting thread2\")\n",
    "    thread2.start()\n",
    "    print(\"Waiting for thread1 to finish\")\n",
    "    thread1.join()\n",
    "    print(\"Waiting for thread2 to finish\")\n",
    "    thread2.join()\n",
    "    print(\"all done\")\n",
    "\n",
    "    \n",
    "   \n",
    "\n",
    "\n",
    "\n"
   ]
  },
  {
   "cell_type": "code",
   "execution_count": 15,
   "metadata": {},
   "outputs": [
    {
     "name": "stdout",
     "output_type": "stream",
     "text": [
      "Main Thead: name=MainThread, idnet=14476, id=14476,data=0\n",
      "starting thread 1\n",
      "doing some work: name=Thread-45 (threadfunc), idnet=6204, id=6204,data=1\n",
      "starting thread 2\n",
      "doing some work: name=Thread-46 (threadfunc), idnet=11420, id=11420,data=36\n",
      "starting thread 3\n",
      "doing some work: name=Thread-47 (threadfunc), idnet=8576, id=8576,data=25\n",
      "waiting for thread 1 to join\n",
      "Finished some work: name=Thread-46 (threadfunc), idnet=11420, id=11420,data=36\n",
      "Finished some work: name=Thread-45 (threadfunc), idnet=6204, id=6204,data=1\n",
      "waiting for thread 2 to join\n",
      "waiting for thread 3 to join\n",
      "Finished some work: name=Thread-47 (threadfunc), idnet=8576, id=8576,data=25\n",
      "\n",
      "all done\n"
     ]
    }
   ],
   "source": [
    "import random\n",
    "\n",
    "def printThread(name,Data=0):\n",
    "    thread = current_thread()\n",
    "    print(f'{name}: name={thread.name}, idnet={get_ident()}, id={get_native_id()},data={Data}')\n",
    "\n",
    "\n",
    "def threadfunc(number):\n",
    "    printThread(\"doing some work\",number)\n",
    "    tot = sum([random.randint(0, 10) for i in range(150000)])\n",
    "    tot = tot % 10\n",
    "    printThread(\"Finished some work\",number)\n",
    "    return tot\n",
    "\n",
    "\n",
    "\n",
    "\n",
    "\n",
    "if __name__ == \"__main__\":\n",
    "    printThread(\"Main Thead\")\n",
    "\n",
    "    threads = []\n",
    "\n",
    "    #Create some threads\n",
    "    threads.append(Thread(target=threadfunc,args=(1,), daemon=True))\n",
    "    threads.append(Thread(target=threadfunc,args=(36,), daemon=True))\n",
    "    threads.append(Thread(target=threadfunc,args=(25,), daemon=True))\n",
    "\n",
    "    #Start some threads\n",
    "    for index, thread in enumerate(threads):\n",
    "        print(f\"starting thread {index+1}\")\n",
    "        thread.start()\n",
    "    \n",
    "    #Wait for threads to finish\n",
    "    for index, thread in enumerate(threads):\n",
    "        print(f\"waiting for thread {index+1} to join\")\n",
    "        thread.join()\n",
    "\n",
    "    print(\"\\nall done\")\n"
   ]
  },
  {
   "cell_type": "code",
   "execution_count": 3,
   "metadata": {},
   "outputs": [
    {
     "name": "stdout",
     "output_type": "stream",
     "text": [
      "Main Thead: name=MainThread, idnet=14476, id=14476,payload=0\n",
      "\n",
      "starting thread 1\n",
      "Attempting to acquire lock: name=Thread-9 (threadfunc), idnet=13828, id=13828,payload=0\n",
      "I have the lock and doing stuff: name=Thread-9 (threadfunc), idnet=13828, id=13828,payload=0\n",
      "starting thread 2\n",
      "Attempting to acquire lock: name=Thread-10 (threadfunc), idnet=24004, id=24004,payload=0\n",
      "starting thread 3\n",
      "Attempting to acquire lock: name=Thread-11 (threadfunc), idnet=15592, id=15592,payload=0\n",
      "waiting for thread 1 to join\n",
      "Releasing lock: name=Thread-9 (threadfunc), idnet=13828, id=13828,payload=0\n",
      "waiting for thread 2 to join\n",
      "I have the lock and doing stuff: name=Thread-10 (threadfunc), idnet=24004, id=24004,payload=0\n",
      "Releasing lock: name=Thread-10 (threadfunc), idnet=24004, id=24004,payload=0\n",
      "waiting for thread 3 to join\n",
      "I have the lock and doing stuff: name=Thread-11 (threadfunc), idnet=15592, id=15592,payload=0\n",
      "Releasing lock: name=Thread-11 (threadfunc), idnet=15592, id=15592,payload=0\n",
      "\n",
      "all done\n"
     ]
    }
   ],
   "source": [
    "\n",
    "from threading import Thread, current_thread, get_ident, get_native_id\n",
    "from threading import Lock\n",
    "from time import sleep\n",
    "lock = Lock()\n",
    "\n",
    "def printThread(name,Data=0):\n",
    "    thread = current_thread()\n",
    "    print(f'{name}: name={thread.name}, idnet={get_ident()}, id={get_native_id()},payload={Data}')\n",
    "\n",
    "\n",
    "def threadfunc(number):\n",
    "    printThread(\"Attempting to acquire lock\")\n",
    "    lock.acquire()\n",
    "    printThread(\"I have the lock and doing stuff\")\n",
    "    sleep(2)\n",
    "    printThread(\"Releasing lock\")\n",
    "    lock.release()\n",
    "\n",
    "\n",
    "if __name__ == \"__main__\":\n",
    "    printThread(\"Main Thead\")\n",
    "    print(\"\")\n",
    "\n",
    "    threads = []\n",
    "\n",
    "    threads.append(Thread(target=threadfunc,args=(1,), daemon=True))\n",
    "    threads.append(Thread(target=threadfunc,args=(36,), daemon=True))\n",
    "    threads.append(Thread(target=threadfunc,args=(25,), daemon=True))\n",
    "\n",
    "    \n",
    "    for index, thread in enumerate(threads):\n",
    "        print(f\"starting thread {index+1}\")\n",
    "        thread.start()\n",
    "    \n",
    "    for index, thread in enumerate(threads):\n",
    "        print(f\"waiting for thread {index+1} to join\")\n",
    "        thread.join()\n",
    "\n",
    "    print(\"\\nall done\")\n",
    "\n",
    "    \n",
    "   \n",
    "\n",
    "\n",
    "\n"
   ]
  },
  {
   "cell_type": "code",
   "execution_count": null,
   "metadata": {},
   "outputs": [],
   "source": []
  }
 ],
 "metadata": {
  "kernelspec": {
   "display_name": "Python 3",
   "language": "python",
   "name": "python3"
  },
  "language_info": {
   "codemirror_mode": {
    "name": "ipython",
    "version": 3
   },
   "file_extension": ".py",
   "mimetype": "text/x-python",
   "name": "python",
   "nbconvert_exporter": "python",
   "pygments_lexer": "ipython3",
   "version": "3.10.11"
  },
  "orig_nbformat": 4,
  "vscode": {
   "interpreter": {
    "hash": "ede8e11e9ba2b2bb9df5f44d52f3ae4d35cb16ef808fbdc0491b706cb6ed4770"
   }
  }
 },
 "nbformat": 4,
 "nbformat_minor": 2
}
